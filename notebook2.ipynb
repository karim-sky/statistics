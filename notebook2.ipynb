{
  "cells": [
    {
      "cell_type": "markdown",
      "metadata": {
        "id": "Zej0wEHte71u"
      },
      "source": [
        "#\n",
        "---\n",
        "\n",
        "1. Estimate the average number of distinct items (num_distinct_items) per order and explore bias in your estimation. Generate 1,000 random samples with a sample size of 50, and compare the sample means to the population mean using these simulations.\n",
        "2. Simulate 100 random samples of total_items and estimate the average number of items per order. Does the average fall within a reasonable range (e.g., between 2 and 5 items)?\n",
        "3. What is the minimum item price (in cents) based on a random sample of 80 orders from the dataset?\n",
        "4. Simulate 100 random samples of total_busy_dashers and test if the number of busy dashers is typically greater than 15.\n",
        "5. Simulate 100 random samples from min_item_price and estimate whether the average minimum item price is greater than 500 cents (or $5)."
      ]
    },
    {
      "cell_type": "markdown",
      "metadata": {
        "id": "UB39gFY5fDPS"
      },
      "source": [
        "## About the data:\n",
        "The dataset contains a subset of deliveries received at DoorDash in early 2015 in a subset of the cities. Each row in this file corresponds to one unique delivery. Each column corresponds to a feature as explained below. Note all money (dollar) values given in the data are in cents and all time duration values given are in seconds\n",
        "\\\n",
        "\\\n",
        "**Time features:**\\\n",
        "market_id: A city/region in which DoorDash operates, e.g., Los Angeles, given in the data as an id\n",
        "created_at: Timestamp in UTC when the order was submitted by the consumer to DoorDash. (Note this timestamp is in UTC, but in case you need it, the actual timezone of the region was US/Pacific)\n",
        "actual_delivery_time: Timestamp in UTC when the order was delivered to the consumer\n",
        "delivery_time_seconds: Subtracted 'created_at' from 'actual_delivery_time' after converting both to datetimes. This is in seconds.\n",
        "\\\n",
        "\\\n",
        "**Store features:**\\\n",
        "store_id: an id representing the restaurant the order was submitted for\n",
        "store_primary_category: cuisine category of the restaurant, e.g., italian, asian\n",
        "order_protocol: a store can receive orders from DoorDash through many modes. This field represents an id denoting the protocol\n",
        "\\\n",
        "\\\n",
        "**Order features:**\\\n",
        "total_items: total number of items in the order\n",
        "subtotal: total value of the order submitted (in cents)\n",
        "num_distinct_items: number of distinct items included in the order\n",
        "min_item_price: price of the item with the least cost in the order (in cents)\n",
        "max_item_price: price of the item with the highest cost in the order (in cents)\n",
        "\\\n",
        "\\\n",
        "**Market features:**\\\n",
        "DoorDash being a marketplace, we have information on the state of marketplace when the order is placed, that can be used to estimate delivery time. The following features are values at the time of `created_at` (order submission time)\n",
        "total_onshift_dashers: Number of available dashers who are within 10 miles of the store at the time of order creation\n",
        "total_busy_dashers: Subset of above `total_onshift_dashers` who are currently working on an order\n",
        "total_outstanding_orders: Number of orders within 10 miles of this order that are currently being processed."
      ]
    },
    {
      "cell_type": "markdown",
      "metadata": {
        "id": "ofsoPVOGfHc_"
      },
      "source": [
        "# Code below"
      ]
    },
    {
      "cell_type": "markdown",
      "metadata": {
        "id": "Dlj6eCqTfFi3"
      },
      "source": [
        "### Prep the environment"
      ]
    },
    {
      "cell_type": "code",
      "execution_count": 1,
      "metadata": {
        "id": "DUAw6ipgewiD"
      },
      "outputs": [],
      "source": [
        "import numpy as np\n",
        "import matplotlib.pyplot as plt\n",
        "import seaborn as sns\n",
        "import pandas as pd\n",
        "\n",
        "from scipy import stats"
      ]
    },
    {
      "cell_type": "markdown",
      "metadata": {
        "id": "881xRmPFfPqi"
      },
      "source": [
        "Read the delivery_data_clean into the environment and look at it"
      ]
    },
    {
      "cell_type": "code",
      "execution_count": 2,
      "metadata": {
        "colab": {
          "base_uri": "https://localhost:8080/",
          "height": 313
        },
        "id": "rKNIZ3dNfQRk",
        "outputId": "b2ceb8a1-1f92-4ad1-e20f-4462017557bf"
      },
      "outputs": [
        {
          "data": {
            "text/html": [
              "<div>\n",
              "<style scoped>\n",
              "    .dataframe tbody tr th:only-of-type {\n",
              "        vertical-align: middle;\n",
              "    }\n",
              "\n",
              "    .dataframe tbody tr th {\n",
              "        vertical-align: top;\n",
              "    }\n",
              "\n",
              "    .dataframe thead th {\n",
              "        text-align: right;\n",
              "    }\n",
              "</style>\n",
              "<table border=\"1\" class=\"dataframe\">\n",
              "  <thead>\n",
              "    <tr style=\"text-align: right;\">\n",
              "      <th></th>\n",
              "      <th>market_id</th>\n",
              "      <th>created_at</th>\n",
              "      <th>actual_delivery_time</th>\n",
              "      <th>store_id</th>\n",
              "      <th>store_primary_category</th>\n",
              "      <th>order_protocol</th>\n",
              "      <th>total_items</th>\n",
              "      <th>subtotal</th>\n",
              "      <th>num_distinct_items</th>\n",
              "      <th>min_item_price</th>\n",
              "      <th>max_item_price</th>\n",
              "      <th>total_onshift_dashers</th>\n",
              "      <th>total_busy_dashers</th>\n",
              "      <th>total_outstanding_orders</th>\n",
              "      <th>estimated_order_place_duration</th>\n",
              "      <th>estimated_store_to_consumer_driving_duration</th>\n",
              "      <th>delivery_time_seconds</th>\n",
              "    </tr>\n",
              "  </thead>\n",
              "  <tbody>\n",
              "    <tr>\n",
              "      <th>0</th>\n",
              "      <td>2.0</td>\n",
              "      <td>2015-01-29 02:59:44</td>\n",
              "      <td>2015-01-29 03:37:58</td>\n",
              "      <td>6865</td>\n",
              "      <td>mexican</td>\n",
              "      <td>5.0</td>\n",
              "      <td>1</td>\n",
              "      <td>1499</td>\n",
              "      <td>1</td>\n",
              "      <td>799</td>\n",
              "      <td>799</td>\n",
              "      <td>103.0</td>\n",
              "      <td>87.0</td>\n",
              "      <td>127.0</td>\n",
              "      <td>251</td>\n",
              "      <td>609.0</td>\n",
              "      <td>2294.0</td>\n",
              "    </tr>\n",
              "    <tr>\n",
              "      <th>1</th>\n",
              "      <td>1.0</td>\n",
              "      <td>2015-01-31 02:12:31</td>\n",
              "      <td>2015-01-31 03:11:51</td>\n",
              "      <td>3368</td>\n",
              "      <td>pizza</td>\n",
              "      <td>3.0</td>\n",
              "      <td>3</td>\n",
              "      <td>3722</td>\n",
              "      <td>3</td>\n",
              "      <td>499</td>\n",
              "      <td>1399</td>\n",
              "      <td>22.0</td>\n",
              "      <td>22.0</td>\n",
              "      <td>23.0</td>\n",
              "      <td>251</td>\n",
              "      <td>576.0</td>\n",
              "      <td>3560.0</td>\n",
              "    </tr>\n",
              "    <tr>\n",
              "      <th>2</th>\n",
              "      <td>5.0</td>\n",
              "      <td>2015-02-12 23:49:21</td>\n",
              "      <td>2015-02-13 00:23:29</td>\n",
              "      <td>5370</td>\n",
              "      <td>american</td>\n",
              "      <td>5.0</td>\n",
              "      <td>2</td>\n",
              "      <td>1935</td>\n",
              "      <td>2</td>\n",
              "      <td>645</td>\n",
              "      <td>995</td>\n",
              "      <td>7.0</td>\n",
              "      <td>3.0</td>\n",
              "      <td>3.0</td>\n",
              "      <td>251</td>\n",
              "      <td>660.0</td>\n",
              "      <td>2048.0</td>\n",
              "    </tr>\n",
              "    <tr>\n",
              "      <th>3</th>\n",
              "      <td>4.0</td>\n",
              "      <td>2015-01-23 01:13:15</td>\n",
              "      <td>2015-01-23 01:57:50</td>\n",
              "      <td>558</td>\n",
              "      <td>seafood</td>\n",
              "      <td>5.0</td>\n",
              "      <td>5</td>\n",
              "      <td>5500</td>\n",
              "      <td>4</td>\n",
              "      <td>750</td>\n",
              "      <td>1600</td>\n",
              "      <td>47.0</td>\n",
              "      <td>36.0</td>\n",
              "      <td>53.0</td>\n",
              "      <td>251</td>\n",
              "      <td>690.0</td>\n",
              "      <td>2675.0</td>\n",
              "    </tr>\n",
              "    <tr>\n",
              "      <th>4</th>\n",
              "      <td>1.0</td>\n",
              "      <td>2015-02-01 03:07:00</td>\n",
              "      <td>2015-02-01 03:40:23</td>\n",
              "      <td>2582</td>\n",
              "      <td>barbecue</td>\n",
              "      <td>1.0</td>\n",
              "      <td>1</td>\n",
              "      <td>925</td>\n",
              "      <td>1</td>\n",
              "      <td>925</td>\n",
              "      <td>925</td>\n",
              "      <td>58.0</td>\n",
              "      <td>55.0</td>\n",
              "      <td>41.0</td>\n",
              "      <td>446</td>\n",
              "      <td>217.0</td>\n",
              "      <td>2003.0</td>\n",
              "    </tr>\n",
              "  </tbody>\n",
              "</table>\n",
              "</div>"
            ],
            "text/plain": [
              "   market_id           created_at actual_delivery_time  store_id  \\\n",
              "0        2.0  2015-01-29 02:59:44  2015-01-29 03:37:58      6865   \n",
              "1        1.0  2015-01-31 02:12:31  2015-01-31 03:11:51      3368   \n",
              "2        5.0  2015-02-12 23:49:21  2015-02-13 00:23:29      5370   \n",
              "3        4.0  2015-01-23 01:13:15  2015-01-23 01:57:50       558   \n",
              "4        1.0  2015-02-01 03:07:00  2015-02-01 03:40:23      2582   \n",
              "\n",
              "  store_primary_category  order_protocol  total_items  subtotal  \\\n",
              "0                mexican             5.0            1      1499   \n",
              "1                  pizza             3.0            3      3722   \n",
              "2               american             5.0            2      1935   \n",
              "3                seafood             5.0            5      5500   \n",
              "4               barbecue             1.0            1       925   \n",
              "\n",
              "   num_distinct_items  min_item_price  max_item_price  total_onshift_dashers  \\\n",
              "0                   1             799             799                  103.0   \n",
              "1                   3             499            1399                   22.0   \n",
              "2                   2             645             995                    7.0   \n",
              "3                   4             750            1600                   47.0   \n",
              "4                   1             925             925                   58.0   \n",
              "\n",
              "   total_busy_dashers  total_outstanding_orders  \\\n",
              "0                87.0                     127.0   \n",
              "1                22.0                      23.0   \n",
              "2                 3.0                       3.0   \n",
              "3                36.0                      53.0   \n",
              "4                55.0                      41.0   \n",
              "\n",
              "   estimated_order_place_duration  \\\n",
              "0                             251   \n",
              "1                             251   \n",
              "2                             251   \n",
              "3                             251   \n",
              "4                             446   \n",
              "\n",
              "   estimated_store_to_consumer_driving_duration  delivery_time_seconds  \n",
              "0                                         609.0                 2294.0  \n",
              "1                                         576.0                 3560.0  \n",
              "2                                         660.0                 2048.0  \n",
              "3                                         690.0                 2675.0  \n",
              "4                                         217.0                 2003.0  "
            ]
          },
          "execution_count": 2,
          "metadata": {},
          "output_type": "execute_result"
        }
      ],
      "source": [
        "# URL of the CSV file\n",
        "url = \"https://github.com/alee103/intro_to_stats/raw/main/delivery_data_clean.csv\"\n",
        "\n",
        "# Read the CSV file into a DataFrame\n",
        "df = pd.read_csv(url)\n",
        "\n",
        "# Display the first few rows of the DataFrame\n",
        "df.head()"
      ]
    },
    {
      "cell_type": "code",
      "execution_count": 3,
      "metadata": {
        "colab": {
          "base_uri": "https://localhost:8080/"
        },
        "id": "ZzFGCnlnfVsy",
        "outputId": "90a63ed2-d05b-4220-9b0f-cbdac0b229c4"
      },
      "outputs": [
        {
          "name": "stdout",
          "output_type": "stream",
          "text": [
            "<class 'pandas.core.frame.DataFrame'>\n",
            "RangeIndex: 70333 entries, 0 to 70332\n",
            "Data columns (total 17 columns):\n",
            " #   Column                                        Non-Null Count  Dtype  \n",
            "---  ------                                        --------------  -----  \n",
            " 0   market_id                                     70333 non-null  float64\n",
            " 1   created_at                                    70333 non-null  object \n",
            " 2   actual_delivery_time                          70333 non-null  object \n",
            " 3   store_id                                      70333 non-null  int64  \n",
            " 4   store_primary_category                        70333 non-null  object \n",
            " 5   order_protocol                                70333 non-null  float64\n",
            " 6   total_items                                   70333 non-null  int64  \n",
            " 7   subtotal                                      70333 non-null  int64  \n",
            " 8   num_distinct_items                            70333 non-null  int64  \n",
            " 9   min_item_price                                70333 non-null  int64  \n",
            " 10  max_item_price                                70333 non-null  int64  \n",
            " 11  total_onshift_dashers                         70333 non-null  float64\n",
            " 12  total_busy_dashers                            70333 non-null  float64\n",
            " 13  total_outstanding_orders                      70333 non-null  float64\n",
            " 14  estimated_order_place_duration                70333 non-null  int64  \n",
            " 15  estimated_store_to_consumer_driving_duration  70333 non-null  float64\n",
            " 16  delivery_time_seconds                         70333 non-null  float64\n",
            "dtypes: float64(7), int64(7), object(3)\n",
            "memory usage: 9.1+ MB\n"
          ]
        }
      ],
      "source": [
        "df.info()"
      ]
    },
    {
      "cell_type": "markdown",
      "metadata": {
        "id": "NK-N0BqyhNFz"
      },
      "source": [
        "###  1: Estimate the average number of distinct items (num_distinct_items) per order and explore bias in your estimation. Generate 1,000 random samples with a sample size of 50, and compare the sample means to the population mean using these simulations."
      ]
    },
    {
      "cell_type": "code",
      "execution_count": 4,
      "metadata": {
        "colab": {
          "base_uri": "https://localhost:8080/"
        },
        "collapsed": true,
        "id": "O3BApEOOuSnO",
        "outputId": "84933087-20d7-4b5f-ddbd-5aaff7c8728e"
      },
      "outputs": [
        {
          "data": {
            "text/plain": [
              "[2.64, 3.04, 2.72, 2.66, 2.48]"
            ]
          },
          "execution_count": 4,
          "metadata": {},
          "output_type": "execute_result"
        }
      ],
      "source": [
        "# Set random seed for reproducibility\n",
        "np.random.seed(42)\n",
        "\n",
        "# Extract the number of distinct items\n",
        "total_items = df['total_items'].dropna()\n",
        "\n",
        "# Calculate the population mean\n",
        "population_mean = np.mean(total_items)\n",
        "\n",
        "# Perform 1000 simulations of sample means with sample size 50\n",
        "sample_means = []\n",
        "sample_size = 50\n",
        "\n",
        "for _ in range(1000):\n",
        "    sample = np.random.choice(total_items, size=sample_size, replace=True)\n",
        "    sample_means.append(np.mean(sample))\n",
        "\n",
        "# Sanity check: look at the first 5 items\n",
        "sample_means[:5]"
      ]
    },
    {
      "cell_type": "code",
      "execution_count": 5,
      "metadata": {
        "colab": {
          "base_uri": "https://localhost:8080/"
        },
        "id": "BF-6LF1Xwosr",
        "outputId": "085606f6-7ea2-442a-9b8f-664cbf60ca1b"
      },
      "outputs": [
        {
          "name": "stdout",
          "output_type": "stream",
          "text": [
            "Bias in estimation: -0.006608289991895777\n"
          ]
        }
      ],
      "source": [
        "# Calculate bias: the difference between the average of the sample means and the population mean\n",
        "bias = np.mean(sample_means) - population_mean\n",
        "print(f\"Bias in estimation: {bias}\")"
      ]
    },
    {
      "cell_type": "code",
      "execution_count": 6,
      "metadata": {
        "colab": {
          "base_uri": "https://localhost:8080/",
          "height": 472
        },
        "id": "1X1czNj6xKZz",
        "outputId": "3cc30e23-9a29-43ec-9ac9-0812c1401e2e"
      },
      "outputs": [
        {
          "data": {
            "image/png": "[encoded data removed]",
            "text/plain": [
              "<Figure size 640x480 with 1 Axes>"
            ]
          },
          "metadata": {},
          "output_type": "display_data"
        }
      ],
      "source": [
        "# Plot the distribution of sample means\n",
        "plt.hist(sample_means, bins=30, alpha=0.7, edgecolor='black')\n",
        "plt.title('Distribution of Sample Means (Distinct Items Per Order)')\n",
        "plt.xlabel('Sample Mean')\n",
        "plt.ylabel('Frequency')\n",
        "plt.axvline(population_mean, color='r', linestyle='dashed', linewidth=2)\n",
        "plt.show()"
      ]
    },
    {
      "cell_type": "markdown",
      "metadata": {
        "id": "r74ayC63hUwb"
      },
      "source": [
        "###  2: Simulate 100 random samples of total_items and estimate the average number of items per order. Does the average fall within a reasonable range (e.g., between 2 and 5 items)?"
      ]
    },
    {
      "cell_type": "code",
      "execution_count": 29,
      "metadata": {
        "id": "1M_qRa7DxUmr"
      },
      "outputs": [],
      "source": [
        "# Set random seed for reproducibility\n",
        "np.random.seed(42)\n",
        "\n",
        "# Simulate 100 random samples of 'num_distinct_items'\n",
        "n_samples = 100\n",
        "random_samples = np.random.choice(df['num_distinct_items'], size=n_samples)"
      ]
    },
    {
      "cell_type": "code",
      "execution_count": 30,
      "metadata": {
        "colab": {
          "base_uri": "https://localhost:8080/"
        },
        "id": "UplWy6eaxv2a",
        "outputId": "1b805096-d178-4001-d9bb-d8c3168a1539"
      },
      "outputs": [
        {
          "name": "stdout",
          "output_type": "stream",
          "text": [
            "Average Number of Distinct Items in Random Sample: 2.48\n"
          ]
        }
      ],
      "source": [
        "# Calculate the average number of distinct items in the random sample\n",
        "average_items = np.mean(random_samples)\n",
        "\n",
        "print(f\"Average Number of Distinct Items in Random Sample: {average_items:.2f}\")"
      ]
    },
    {
      "cell_type": "code",
      "execution_count": 9,
      "metadata": {
        "colab": {
          "base_uri": "https://localhost:8080/"
        },
        "id": "uDW48YOlx88C",
        "outputId": "fc741766-0bfd-4719-96aa-7fcc2066f875"
      },
      "outputs": [
        {
          "name": "stdout",
          "output_type": "stream",
          "text": [
            "The average number of distinct items falls within the reasonable range (2 to 5 items).\n"
          ]
        }
      ],
      "source": [
        "# Hypothesis: Is the average between 2 and 5 items?\n",
        "if 2 <= average_items <= 5:\n",
        "    print(\"The average number of distinct items falls within the reasonable range (2 to 5 items).\")\n",
        "else:\n",
        "    print(\"The average number of distinct items does not fall within the reasonable range (2 to 5 items).\")"
      ]
    },
    {
      "cell_type": "markdown",
      "metadata": {
        "id": "jC8MTFyghi52"
      },
      "source": [
        "###  3: What is the minimum item price (in cents) based on a sample of 80 orders from the dataset?"
      ]
    },
    {
      "cell_type": "code",
      "execution_count": 32,
      "metadata": {
        "colab": {
          "base_uri": "https://localhost:8080/"
        },
        "id": "Bx96USh1yao9",
        "outputId": "89a164f7-7c1c-4c3b-f79b-a2ef8c0b55a4"
      },
      "outputs": [
        {
          "name": "stdout",
          "output_type": "stream",
          "text": [
            "Max Item Price in Sample: 2050 cents\n",
            "Min Item Price in Sample: 189 cents\n"
          ]
        }
      ],
      "source": [
        "# Set random seed for reproducibility\n",
        "np.random.seed(42)\n",
        "\n",
        "# Randomly sample 80 values from 'max_item_price' column\n",
        "random_sample = np.random.choice(df['max_item_price'], size=80, replace=False)\n",
        "\n",
        "# Calculate the max price in the sample\n",
        "max_price = np.max(random_sample)\n",
        "min_price = np.min(random_sample)\n",
        "\n",
        "print(f\"Max Item Price in Sample: {max_price} cents\")\n",
        "print(f\"Min Item Price in Sample: {min_price} cents\")"
      ]
    },
    {
      "cell_type": "markdown",
      "metadata": {
        "id": "87fjsPpOhqVa"
      },
      "source": [
        "###  4: Simulate 100 random samples of total_busy_dashers and test if the number of busy dashers is typically greater than 15."
      ]
    },
    {
      "cell_type": "code",
      "execution_count": 33,
      "metadata": {
        "id": "L1aJ59WlyskV"
      },
      "outputs": [],
      "source": [
        "# Set random seed for reproducibility\n",
        "np.random.seed(42)\n",
        "\n",
        "# Simulate 100 random samples of total_onshift_dashers\n",
        "n_samples = 100\n",
        "random_dashers_samples = np.random.choice(df['total_onshift_dashers'], size=n_samples)\n",
        "random_busy_dashers_samples = np.random.choice(df['total_busy_dashers'], size=n_samples)"
      ]
    },
    {
      "cell_type": "code",
      "execution_count": 34,
      "metadata": {
        "colab": {
          "base_uri": "https://localhost:8080/"
        },
        "id": "ayCFTgSMy6IQ",
        "outputId": "7b8d05d9-2258-468d-ee92-8f4bca1e2919"
      },
      "outputs": [
        {
          "name": "stdout",
          "output_type": "stream",
          "text": [
            "Proportion of on shift Dashers Greater Than 15: 0.75\n",
            "Proportion of busy Dashers Greater Than 15: 0.88\n"
          ]
        }
      ],
      "source": [
        "# Calculate the proportion of samples where the number of on shift dashers is greater than 15\n",
        "proportion_greater_than_15 = np.mean(random_dashers_samples > 15)\n",
        "print(f\"Proportion of on shift Dashers Greater Than 15: {proportion_greater_than_15:.2f}\")\n",
        "\n",
        "print(f\"Proportion of busy Dashers Greater Than 15: {np.mean(random_busy_dashers_samples > 15):.2f}\")"
      ]
    },
    {
      "cell_type": "code",
      "execution_count": 13,
      "metadata": {
        "colab": {
          "base_uri": "https://localhost:8080/"
        },
        "id": "q6oeJBA0zDwg",
        "outputId": "88e736fe-e434-4b5c-bdfd-50acc5e58bc1"
      },
      "outputs": [
        {
          "name": "stdout",
          "output_type": "stream",
          "text": [
            "More than 15 dashers are on shift in most cases.\n"
          ]
        }
      ],
      "source": [
        "# Hypothesis: Are more than 15 dashers on shift in most cases?\n",
        "if proportion_greater_than_15 > 0.5:\n",
        "    print(\"More than 15 dashers are on shift in most cases.\")\n",
        "else:\n",
        "    print(\"Less than or equal to 15 dashers are on shift in most cases.\")"
      ]
    },
    {
      "cell_type": "markdown",
      "metadata": {
        "id": "B-bWEZcih1eS"
      },
      "source": [
        "###  5: Simulate 100 random samples from min_item_price and estimate whether the average minimum item price is greater than 500 cents (or $5)."
      ]
    },
    {
      "cell_type": "code",
      "execution_count": 35,
      "metadata": {
        "colab": {
          "base_uri": "https://localhost:8080/"
        },
        "id": "bBa99kS4zJCj",
        "outputId": "a4d109e3-8dc8-4084-8daf-1716202c96b2"
      },
      "outputs": [
        {
          "name": "stdout",
          "output_type": "stream",
          "text": [
            "Average maximum Price in Random Sample: 1105.39 cents\n",
            "Average minimum Price in Random Sample: 661.55 cents\n",
            "The average maximum price is less than or equal to $20.\n"
          ]
        }
      ],
      "source": [
        "# Set random seed for reproducibility\n",
        "np.random.seed(42)\n",
        "\n",
        "# Simulate 100 random samples of 'max_item_price'\n",
        "n_samples = 100\n",
        "random_max_prices = np.random.choice(df['max_item_price'], size=n_samples)\n",
        "random_min_prices = np.random.choice(df['min_item_price'], size=n_samples)\n",
        "\n",
        "# Calculate the average maximum price in the random sample\n",
        "average_max_price = np.mean(random_max_prices)\n",
        "average_min_price = np.mean(random_min_prices)\n",
        "\n",
        "print(f\"Average maximum Price in Random Sample: {average_max_price:.2f} cents\")\n",
        "print(f\"Average minimum Price in Random Sample: {average_min_price} cents\")\n",
        "\n",
        "# Hypothesis: Is the average maximum price greater than 2000 cents ($20)?\n",
        "if average_max_price > 2000:\n",
        "    print(\"The average maximum price is greater than $20.\")\n",
        "else:\n",
        "    print(\"The average maximum price is less than or equal to $20.\")"
      ]
    },
    {
      "cell_type": "markdown",
      "metadata": {},
      "source": [
        "# Estimate the average number of distinct items (num_distinct_items) per order and explore bias in your estimation. Generate 1,000 random samples with a sample size of 50, and compare the sample means to the population mean using these simulations.\n"
      ]
    },
    {
      "cell_type": "code",
      "execution_count": 24,
      "metadata": {},
      "outputs": [
        {
          "name": "stdout",
          "output_type": "stream",
          "text": [
            "Population Mean: 2.401333655609742\n",
            "Bias in Estimation: -0.005193655609742276\n"
          ]
        }
      ],
      "source": [
        "# Estimate the average number of distinct items (num_distinct_items) per order and explore bias in your estimation. \n",
        "\n",
        "# Generate 1,000 random samples with a sample size of 50, and compare the sample means to the population mean using these simulations.\n",
        "\n",
        "np.random.seed(42)\n",
        "\n",
        "n_samples = 1000\n",
        "sample_size = 50\n",
        "\n",
        "# Generate 1000 random samples of 'num_distinct_items' with sample size 50\n",
        "random_sample_means = [np.mean(np.random.choice(df['num_distinct_items'], size=sample_size)) for _ in range(n_samples)]\n",
        "\n",
        "#random_sample_means = np.random.choice(df['num_distinct_items'], size=n_samples)\n",
        "\n",
        "average_num_distinct_items = np.mean(df['num_distinct_items'])\n",
        "\n",
        "print(f\"Population Mean: {average_num_distinct_items}\")\n",
        "\n",
        "# What is the bias between the mean of the sample means and the population mean (mean of sample means - population mean)?\n",
        "bias = np.mean(random_sample_means) - average_num_distinct_items\n",
        "print(f\"Bias in Estimation: {bias}\")\n"
      ]
    },
    {
      "cell_type": "code",
      "execution_count": 18,
      "metadata": {},
      "outputs": [
        {
          "name": "stdout",
          "output_type": "stream",
          "text": [
            "Average Number of Items in Random Sample: 2.84\n"
          ]
        }
      ],
      "source": [
        "#Simulate 100 random samples of total_items and estimate the average number of items per order. \n",
        "np.random.seed(42)\n",
        "\n",
        "n_samples = 100\n",
        "\n",
        "# Generate 100 random samples of 'total_items'\n",
        "random_samples = [np.random.choice(df['total_items']) for _ in range(n_samples)]\n",
        "\n",
        "# Calculate the average number of items in the random sample\n",
        "average_items = np.mean(random_samples)\n",
        "\n",
        "#What is the average number of items in the random sample?\n",
        "print(f\"Average Number of Items in Random Sample: {average_items}\")\n"
      ]
    }
  ],
  "metadata": {
    "colab": {
      "provenance": []
    },
    "kernelspec": {
      "display_name": "Python 3",
      "name": "python3"
    },
    "language_info": {
      "codemirror_mode": {
        "name": "ipython",
        "version": 3
      },
      "file_extension": ".py",
      "mimetype": "text/x-python",
      "name": "python",
      "nbconvert_exporter": "python",
      "pygments_lexer": "ipython3",
      "version": "3.10.9"
    }
  },
  "nbformat": 4,
  "nbformat_minor": 0
}
